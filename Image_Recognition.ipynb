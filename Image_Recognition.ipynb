{
 "cells": [
  {
   "cell_type": "markdown",
   "metadata": {},
   "source": [
    "# 1. Import "
   ]
  },
  {
   "cell_type": "code",
   "execution_count": 68,
   "metadata": {},
   "outputs": [],
   "source": [
    "import os\n",
    "import numpy as np\n",
    "from skimage.io import imread\n",
    "from skimage.transform import resize\n",
    "from skimage.feature import hog\n",
    "from sklearn.svm import SVC\n",
    "from sklearn.metrics import accuracy_score\n",
    "from sklearn.model_selection import GridSearchCV\n"
   ]
  },
  {
   "cell_type": "markdown",
   "metadata": {},
   "source": [
    "# 2. function read images from the folder"
   ]
  },
  {
   "cell_type": "code",
   "execution_count": 69,
   "metadata": {},
   "outputs": [],
   "source": [
    "def read_imgs(name, output, output_index, path = \"train\"):\n",
    "    path = f\"{path}\\{name}\"\n",
    "    imgs = os.listdir(path)    \n",
    "    x = [None]* len(imgs)\n",
    "    for i, img in enumerate(imgs):\n",
    "        img  = imread(os.path.join(path, img))\n",
    "        img = resize(img, (128, 64, 3))\n",
    "        x[i], _ = hog(img, multichannel=True, orientations = 9, \n",
    "                                pixels_per_cell = (8, 8), cells_per_block = (2, 2),\n",
    "                                visualize=True) \n",
    "        output[output_index] = name\n",
    "        output_index +=1\n",
    "    return (x, output, output_index)"
   ]
  },
  {
   "cell_type": "markdown",
   "metadata": {},
   "source": [
    "# 3. perprossing the traning data"
   ]
  },
  {
   "cell_type": "code",
   "execution_count": 70,
   "metadata": {},
   "outputs": [
    {
     "name": "stdout",
     "output_type": "stream",
     "text": [
      "3780\n",
      "[0. 0. 0. ... 0. 0. 0.]\n"
     ]
    }
   ],
   "source": [
    "output = [None] * 57\n",
    "output_index = 0\n",
    "accordian_fd, output, output_index = read_imgs(\n",
    "    \"accordian\", output, output_index)\n",
    "dollar_bill_fd, output, output_index = read_imgs(\n",
    "    \"dollar_bill\", output, output_index)\n",
    "motorbike_fd, output, output_index = read_imgs(\n",
    "    \"motorbike\", output, output_index)\n",
    "soccer_ball_fd, output, output_index = read_imgs(\n",
    "    \"Soccer_Ball\", output, output_index)\n",
    "lists = accordian_fd + dollar_bill_fd+motorbike_fd+soccer_ball_fd\n",
    "print(len(lists[0]))\n",
    "print(lists[0])"
   ]
  },
  {
   "cell_type": "code",
   "execution_count": 71,
   "metadata": {},
   "outputs": [
    {
     "name": "stdout",
     "output_type": "stream",
     "text": [
      "(imgs, array of each img)\n",
      "(57, 3780)\n",
      "the output shape is : 57\n"
     ]
    }
   ],
   "source": [
    "input_np = np.array(lists).reshape(-1, len(lists[0]))\n",
    "output\n",
    "print(\"(imgs, array of each img)\")\n",
    "print(input_np.shape)\n",
    "print(f\"the output shape is : {len(output)}\")"
   ]
  },
  {
   "cell_type": "markdown",
   "metadata": {},
   "source": [
    "# 4. Model traning"
   ]
  },
  {
   "cell_type": "code",
   "execution_count": 72,
   "metadata": {},
   "outputs": [
    {
     "name": "stdout",
     "output_type": "stream",
     "text": [
      "Fitting 10 folds for each of 12 candidates, totalling 120 fits\n",
      "[CV 1/10] END .............C=0.1, kernel=linear;, score=1.000 total time=   0.0s\n",
      "[CV 2/10] END .............C=0.1, kernel=linear;, score=0.833 total time=   0.0s\n",
      "[CV 3/10] END .............C=0.1, kernel=linear;, score=1.000 total time=   0.0s\n",
      "[CV 4/10] END .............C=0.1, kernel=linear;, score=1.000 total time=   0.0s\n",
      "[CV 5/10] END .............C=0.1, kernel=linear;, score=1.000 total time=   0.0s\n",
      "[CV 6/10] END .............C=0.1, kernel=linear;, score=1.000 total time=   0.0s\n",
      "[CV 7/10] END .............C=0.1, kernel=linear;, score=1.000 total time=   0.0s\n",
      "[CV 8/10] END .............C=0.1, kernel=linear;, score=1.000 total time=   0.0s\n",
      "[CV 9/10] END .............C=0.1, kernel=linear;, score=1.000 total time=   0.0s\n",
      "[CV 10/10] END ............C=0.1, kernel=linear;, score=1.000 total time=   0.0s\n",
      "[CV 1/10] END ...............C=0.1, kernel=poly;, score=1.000 total time=   0.0s\n",
      "[CV 2/10] END ...............C=0.1, kernel=poly;, score=0.833 total time=   0.0s\n",
      "[CV 3/10] END ...............C=0.1, kernel=poly;, score=1.000 total time=   0.0s\n",
      "[CV 4/10] END ...............C=0.1, kernel=poly;, score=1.000 total time=   0.0s\n",
      "[CV 5/10] END ...............C=0.1, kernel=poly;, score=0.833 total time=   0.0s\n",
      "[CV 6/10] END ...............C=0.1, kernel=poly;, score=1.000 total time=   0.0s\n",
      "[CV 7/10] END ...............C=0.1, kernel=poly;, score=0.833 total time=   0.0s\n",
      "[CV 8/10] END ...............C=0.1, kernel=poly;, score=1.000 total time=   0.0s\n",
      "[CV 9/10] END ...............C=0.1, kernel=poly;, score=1.000 total time=   0.0s\n",
      "[CV 10/10] END ..............C=0.1, kernel=poly;, score=1.000 total time=   0.0s\n",
      "[CV 1/10] END ................C=0.1, kernel=rbf;, score=0.167 total time=   0.0s\n",
      "[CV 2/10] END ................C=0.1, kernel=rbf;, score=0.167 total time=   0.0s\n",
      "[CV 3/10] END ................C=0.1, kernel=rbf;, score=0.667 total time=   0.0s\n",
      "[CV 4/10] END ................C=0.1, kernel=rbf;, score=0.667 total time=   0.0s\n",
      "[CV 5/10] END ................C=0.1, kernel=rbf;, score=0.667 total time=   0.0s\n",
      "[CV 6/10] END ................C=0.1, kernel=rbf;, score=0.667 total time=   0.0s\n",
      "[CV 7/10] END ................C=0.1, kernel=rbf;, score=0.667 total time=   0.0s\n",
      "[CV 8/10] END ................C=0.1, kernel=rbf;, score=0.200 total time=   0.0s\n",
      "[CV 9/10] END ................C=0.1, kernel=rbf;, score=0.200 total time=   0.0s\n",
      "[CV 10/10] END ...............C=0.1, kernel=rbf;, score=0.200 total time=   0.0s\n",
      "[CV 1/10] END ............C=0.1, kernel=sigmoid;, score=0.167 total time=   0.0s\n",
      "[CV 2/10] END ............C=0.1, kernel=sigmoid;, score=0.167 total time=   0.0s\n",
      "[CV 3/10] END ............C=0.1, kernel=sigmoid;, score=0.667 total time=   0.0s\n",
      "[CV 4/10] END ............C=0.1, kernel=sigmoid;, score=0.667 total time=   0.0s\n",
      "[CV 5/10] END ............C=0.1, kernel=sigmoid;, score=0.667 total time=   0.0s\n",
      "[CV 6/10] END ............C=0.1, kernel=sigmoid;, score=0.667 total time=   0.0s\n",
      "[CV 7/10] END ............C=0.1, kernel=sigmoid;, score=0.667 total time=   0.0s\n",
      "[CV 8/10] END ............C=0.1, kernel=sigmoid;, score=0.200 total time=   0.0s\n",
      "[CV 9/10] END ............C=0.1, kernel=sigmoid;, score=0.200 total time=   0.0s\n",
      "[CV 10/10] END ...........C=0.1, kernel=sigmoid;, score=0.200 total time=   0.0s\n",
      "[CV 1/10] END ...............C=1, kernel=linear;, score=1.000 total time=   0.0s\n",
      "[CV 2/10] END ...............C=1, kernel=linear;, score=0.833 total time=   0.0s\n",
      "[CV 3/10] END ...............C=1, kernel=linear;, score=1.000 total time=   0.0s\n",
      "[CV 4/10] END ...............C=1, kernel=linear;, score=1.000 total time=   0.0s\n",
      "[CV 5/10] END ...............C=1, kernel=linear;, score=1.000 total time=   0.0s\n",
      "[CV 6/10] END ...............C=1, kernel=linear;, score=1.000 total time=   0.0s\n",
      "[CV 7/10] END ...............C=1, kernel=linear;, score=1.000 total time=   0.0s\n",
      "[CV 8/10] END ...............C=1, kernel=linear;, score=1.000 total time=   0.0s\n",
      "[CV 9/10] END ...............C=1, kernel=linear;, score=1.000 total time=   0.0s\n",
      "[CV 10/10] END ..............C=1, kernel=linear;, score=1.000 total time=   0.0s\n",
      "[CV 1/10] END .................C=1, kernel=poly;, score=1.000 total time=   0.0s\n",
      "[CV 2/10] END .................C=1, kernel=poly;, score=0.833 total time=   0.0s\n",
      "[CV 3/10] END .................C=1, kernel=poly;, score=1.000 total time=   0.0s\n",
      "[CV 4/10] END .................C=1, kernel=poly;, score=1.000 total time=   0.0s\n",
      "[CV 5/10] END .................C=1, kernel=poly;, score=1.000 total time=   0.0s\n",
      "[CV 6/10] END .................C=1, kernel=poly;, score=1.000 total time=   0.0s\n",
      "[CV 7/10] END .................C=1, kernel=poly;, score=1.000 total time=   0.0s\n",
      "[CV 8/10] END .................C=1, kernel=poly;, score=1.000 total time=   0.0s\n",
      "[CV 9/10] END .................C=1, kernel=poly;, score=1.000 total time=   0.0s\n",
      "[CV 10/10] END ................C=1, kernel=poly;, score=1.000 total time=   0.0s\n",
      "[CV 1/10] END ..................C=1, kernel=rbf;, score=1.000 total time=   0.0s\n",
      "[CV 2/10] END ..................C=1, kernel=rbf;, score=0.833 total time=   0.0s\n",
      "[CV 3/10] END ..................C=1, kernel=rbf;, score=1.000 total time=   0.0s\n",
      "[CV 4/10] END ..................C=1, kernel=rbf;, score=1.000 total time=   0.0s\n",
      "[CV 5/10] END ..................C=1, kernel=rbf;, score=1.000 total time=   0.0s\n",
      "[CV 6/10] END ..................C=1, kernel=rbf;, score=1.000 total time=   0.0s\n",
      "[CV 7/10] END ..................C=1, kernel=rbf;, score=1.000 total time=   0.0s\n",
      "[CV 8/10] END ..................C=1, kernel=rbf;, score=1.000 total time=   0.0s\n",
      "[CV 9/10] END ..................C=1, kernel=rbf;, score=1.000 total time=   0.0s\n",
      "[CV 10/10] END .................C=1, kernel=rbf;, score=1.000 total time=   0.0s\n",
      "[CV 1/10] END ..............C=1, kernel=sigmoid;, score=1.000 total time=   0.0s\n",
      "[CV 2/10] END ..............C=1, kernel=sigmoid;, score=1.000 total time=   0.0s\n",
      "[CV 3/10] END ..............C=1, kernel=sigmoid;, score=1.000 total time=   0.0s\n",
      "[CV 4/10] END ..............C=1, kernel=sigmoid;, score=1.000 total time=   0.0s\n",
      "[CV 5/10] END ..............C=1, kernel=sigmoid;, score=1.000 total time=   0.0s\n",
      "[CV 6/10] END ..............C=1, kernel=sigmoid;, score=0.833 total time=   0.0s\n",
      "[CV 7/10] END ..............C=1, kernel=sigmoid;, score=1.000 total time=   0.0s\n",
      "[CV 8/10] END ..............C=1, kernel=sigmoid;, score=1.000 total time=   0.0s\n",
      "[CV 9/10] END ..............C=1, kernel=sigmoid;, score=1.000 total time=   0.0s\n",
      "[CV 10/10] END .............C=1, kernel=sigmoid;, score=1.000 total time=   0.0s\n",
      "[CV 1/10] END ..............C=10, kernel=linear;, score=1.000 total time=   0.0s\n",
      "[CV 2/10] END ..............C=10, kernel=linear;, score=0.833 total time=   0.0s\n",
      "[CV 3/10] END ..............C=10, kernel=linear;, score=1.000 total time=   0.0s\n",
      "[CV 4/10] END ..............C=10, kernel=linear;, score=1.000 total time=   0.0s\n",
      "[CV 5/10] END ..............C=10, kernel=linear;, score=1.000 total time=   0.0s\n",
      "[CV 6/10] END ..............C=10, kernel=linear;, score=1.000 total time=   0.0s\n",
      "[CV 7/10] END ..............C=10, kernel=linear;, score=1.000 total time=   0.0s\n",
      "[CV 8/10] END ..............C=10, kernel=linear;, score=1.000 total time=   0.0s\n",
      "[CV 9/10] END ..............C=10, kernel=linear;, score=1.000 total time=   0.0s\n",
      "[CV 10/10] END .............C=10, kernel=linear;, score=1.000 total time=   0.0s\n",
      "[CV 1/10] END ................C=10, kernel=poly;, score=1.000 total time=   0.0s\n",
      "[CV 2/10] END ................C=10, kernel=poly;, score=0.833 total time=   0.0s\n",
      "[CV 3/10] END ................C=10, kernel=poly;, score=1.000 total time=   0.0s\n",
      "[CV 4/10] END ................C=10, kernel=poly;, score=1.000 total time=   0.0s\n",
      "[CV 5/10] END ................C=10, kernel=poly;, score=1.000 total time=   0.0s\n",
      "[CV 6/10] END ................C=10, kernel=poly;, score=1.000 total time=   0.0s\n",
      "[CV 7/10] END ................C=10, kernel=poly;, score=1.000 total time=   0.0s\n",
      "[CV 8/10] END ................C=10, kernel=poly;, score=1.000 total time=   0.0s\n",
      "[CV 9/10] END ................C=10, kernel=poly;, score=1.000 total time=   0.0s\n",
      "[CV 10/10] END ...............C=10, kernel=poly;, score=1.000 total time=   0.0s\n",
      "[CV 1/10] END .................C=10, kernel=rbf;, score=1.000 total time=   0.0s\n",
      "[CV 2/10] END .................C=10, kernel=rbf;, score=0.833 total time=   0.0s\n",
      "[CV 3/10] END .................C=10, kernel=rbf;, score=1.000 total time=   0.0s\n",
      "[CV 4/10] END .................C=10, kernel=rbf;, score=1.000 total time=   0.0s\n",
      "[CV 5/10] END .................C=10, kernel=rbf;, score=1.000 total time=   0.0s\n",
      "[CV 6/10] END .................C=10, kernel=rbf;, score=1.000 total time=   0.0s\n",
      "[CV 7/10] END .................C=10, kernel=rbf;, score=1.000 total time=   0.0s\n",
      "[CV 8/10] END .................C=10, kernel=rbf;, score=1.000 total time=   0.0s\n",
      "[CV 9/10] END .................C=10, kernel=rbf;, score=1.000 total time=   0.0s\n",
      "[CV 10/10] END ................C=10, kernel=rbf;, score=1.000 total time=   0.0s\n",
      "[CV 1/10] END .............C=10, kernel=sigmoid;, score=1.000 total time=   0.0s\n",
      "[CV 2/10] END .............C=10, kernel=sigmoid;, score=0.833 total time=   0.0s\n",
      "[CV 3/10] END .............C=10, kernel=sigmoid;, score=1.000 total time=   0.0s\n",
      "[CV 4/10] END .............C=10, kernel=sigmoid;, score=1.000 total time=   0.0s\n",
      "[CV 5/10] END .............C=10, kernel=sigmoid;, score=1.000 total time=   0.0s\n",
      "[CV 6/10] END .............C=10, kernel=sigmoid;, score=1.000 total time=   0.0s\n",
      "[CV 7/10] END .............C=10, kernel=sigmoid;, score=1.000 total time=   0.0s\n",
      "[CV 8/10] END .............C=10, kernel=sigmoid;, score=1.000 total time=   0.0s\n",
      "[CV 9/10] END .............C=10, kernel=sigmoid;, score=1.000 total time=   0.0s\n",
      "[CV 10/10] END ............C=10, kernel=sigmoid;, score=1.000 total time=   0.0s\n"
     ]
    },
    {
     "data": {
      "text/plain": [
       "GridSearchCV(cv=10, estimator=SVC(random_state=42),\n",
       "             param_grid={'C': [0.1, 1, 10],\n",
       "                         'kernel': ['linear', 'poly', 'rbf', 'sigmoid']},\n",
       "             verbose=3)"
      ]
     },
     "execution_count": 72,
     "metadata": {},
     "output_type": "execute_result"
    }
   ],
   "source": [
    "param_grid = {\n",
    "    'C': [0.1, 1, 10],\n",
    "    'kernel': ['linear', 'poly', 'rbf', 'sigmoid']\n",
    "}\n",
    "grid_search = GridSearchCV(SVC(random_state=42), param_grid, cv=10, verbose=3)\n",
    "grid_search.fit(input_np, output)\n"
   ]
  },
  {
   "cell_type": "code",
   "execution_count": 73,
   "metadata": {},
   "outputs": [
    {
     "name": "stdout",
     "output_type": "stream",
     "text": [
      "the best params is:  {'C': 0.1, 'kernel': 'linear'}\n"
     ]
    }
   ],
   "source": [
    "print(\"the best params is: \",grid_search.best_params_)"
   ]
  },
  {
   "cell_type": "code",
   "execution_count": 74,
   "metadata": {},
   "outputs": [
    {
     "name": "stdout",
     "output_type": "stream",
     "text": [
      "Training Accuracy is: 100.0%\n"
     ]
    }
   ],
   "source": [
    "\n",
    "y_pred = grid_search.predict(input_np)\n",
    "accuracy = accuracy_score(output, y_pred)\n",
    "print(f\"Training Accuracy is: {accuracy*100}%\")\n"
   ]
  },
  {
   "cell_type": "markdown",
   "metadata": {},
   "source": [
    "# 5. Preprossing the test to be same as Training"
   ]
  },
  {
   "cell_type": "code",
   "execution_count": 75,
   "metadata": {},
   "outputs": [
    {
     "name": "stdout",
     "output_type": "stream",
     "text": [
      "3780\n",
      "[0. 0. 0. ... 0. 0. 0.]\n"
     ]
    }
   ],
   "source": [
    "output = [None]* 9\n",
    "output_index = 0\n",
    "\n",
    "accordian_fd, output, output_index = read_imgs(\"accordian\", output, output_index, \"test\")\n",
    "dollar_bill_fd, output, output_index = read_imgs(\"dollar_bill\", output, output_index, \"test\")\n",
    "motorbike_fd, output, output_index = read_imgs(\"motorbike\", output, output_index, \"test\")\n",
    "soccer_ball_fd, output, output_index = read_imgs(\"Soccer_Ball\", output, output_index, \"test\")\n",
    "lists = accordian_fd+ dollar_bill_fd+motorbike_fd+soccer_ball_fd\n",
    "print(len(lists[0]))\n",
    "print(lists[0])"
   ]
  },
  {
   "cell_type": "code",
   "execution_count": 76,
   "metadata": {},
   "outputs": [
    {
     "name": "stdout",
     "output_type": "stream",
     "text": [
      "(imgs, array of each img)\n",
      "(9, 3780)\n",
      "the output shape is : 9\n"
     ]
    }
   ],
   "source": [
    "input_test_np = np.array(lists).reshape(-1, len(lists[0]))\n",
    "print(\"(imgs, array of each img)\")\n",
    "print(input_test_np.shape)\n",
    "print(f\"the output shape is : {len(output)}\")\n"
   ]
  },
  {
   "cell_type": "markdown",
   "metadata": {},
   "source": [
    "# 6. Model Evaluation "
   ]
  },
  {
   "cell_type": "code",
   "execution_count": 77,
   "metadata": {},
   "outputs": [
    {
     "name": "stdout",
     "output_type": "stream",
     "text": [
      "Accuracy of test: 88.89%\n"
     ]
    }
   ],
   "source": [
    "y_pred = grid_search.predict(input_test_np)\n",
    "accuracy = accuracy_score(output, y_pred)\n",
    "print(f\"Accuracy of test: {accuracy*100:.2f}%\")\n"
   ]
  },
  {
   "cell_type": "markdown",
   "metadata": {},
   "source": [
    "# 7. Model Visualization"
   ]
  },
  {
   "cell_type": "code",
   "execution_count": 78,
   "metadata": {},
   "outputs": [
    {
     "data": {
      "image/png": "[encoded data removed]",
      "text/plain": [
       "<Figure size 432x288 with 2 Axes>"
      ]
     },
     "metadata": {},
     "output_type": "display_data"
    }
   ],
   "source": [
    "from sklearn.metrics import confusion_matrix\n",
    "import seaborn as sns\n",
    "import matplotlib.pyplot as plt\n",
    "\n",
    "label_names = sorted(list(set(output)))\n",
    "# generate confusion matrix\n",
    "cm = confusion_matrix(output, y_pred)\n",
    "\n",
    "# plot confusion matrix\n",
    "sns.set(font_scale=1.4)\n",
    "sns.heatmap(cm, annot=True, fmt='g', cmap='Blues',\n",
    "            xticklabels=label_names, yticklabels=label_names)\n",
    "plt.xlabel('Predicted label')\n",
    "plt.ylabel('True label')\n",
    "plt.show()\n"
   ]
  }
 ],
 "metadata": {
  "kernelspec": {
   "display_name": "Python 3.9.7 ('base')",
   "language": "python",
   "name": "python3"
  },
  "language_info": {
   "codemirror_mode": {
    "name": "ipython",
    "version": 3
   },
   "file_extension": ".py",
   "mimetype": "text/x-python",
   "name": "python",
   "nbconvert_exporter": "python",
   "pygments_lexer": "ipython3",
   "version": "3.9.7"
  },
  "orig_nbformat": 4,
  "vscode": {
   "interpreter": {
    "hash": "ff4f85d6e04298634172ac5d8264e7e9b556b95639fe52ebb9425c4d4cba0c9c"
   }
  }
 },
 "nbformat": 4,
 "nbformat_minor": 2
}
